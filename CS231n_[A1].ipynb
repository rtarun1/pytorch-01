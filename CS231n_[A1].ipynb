{
  "nbformat": 4,
  "nbformat_minor": 0,
  "metadata": {
    "colab": {
      "provenance": [],
      "gpuType": "T4",
      "authorship_tag": "ABX9TyP2vWVmjCkW5YFT5Py6lM3/",
      "include_colab_link": true
    },
    "kernelspec": {
      "name": "python3",
      "display_name": "Python 3"
    },
    "language_info": {
      "name": "python"
    },
    "accelerator": "GPU"
  },
  "cells": [
    {
      "cell_type": "markdown",
      "metadata": {
        "id": "view-in-github",
        "colab_type": "text"
      },
      "source": [
        "<a href=\"https://colab.research.google.com/github/rtarun1/pytorch-01/blob/main/CS231n_%5BA1%5D.ipynb\" target=\"_parent\"><img src=\"https://colab.research.google.com/assets/colab-badge.svg\" alt=\"Open In Colab\"/></a>"
      ]
    },
    {
      "cell_type": "code",
      "execution_count": 2,
      "metadata": {
        "id": "LmKrCmDcRq9Y",
        "colab": {
          "base_uri": "https://localhost:8080/"
        },
        "outputId": "c2b2fb97-dc99-4cfd-d093-2fdf04e9b36e"
      },
      "outputs": [
        {
          "output_type": "stream",
          "name": "stdout",
          "text": [
            "2.3.0+cu121\n"
          ]
        }
      ],
      "source": [
        "import torch\n",
        "print(torch. __version__)"
      ]
    },
    {
      "cell_type": "code",
      "source": [
        "for i in range(3):\n",
        "  print(i)\n",
        ""
      ],
      "metadata": {
        "colab": {
          "base_uri": "https://localhost:8080/"
        },
        "id": "bGcDzd6UjgjT",
        "outputId": "f1836823-c0da-46fa-e24f-161fbac28065"
      },
      "execution_count": 3,
      "outputs": [
        {
          "output_type": "stream",
          "name": "stdout",
          "text": [
            "0\n",
            "1\n",
            "2\n"
          ]
        }
      ]
    },
    {
      "cell_type": "code",
      "source": [
        "#one dimentional tensor\n",
        "a  = torch.tensor([1, 2, 3])\n",
        "print(\"Here is a: \", a)\n",
        "print('type of a:', type(a))\n",
        "print('dimention of a ', a.dim())\n",
        "print('a.shape:', a.shape)\n",
        "print(type(a[0].item()))\n",
        "\n",
        "a[1] = 10\n",
        "print(a)"
      ],
      "metadata": {
        "colab": {
          "base_uri": "https://localhost:8080/"
        },
        "id": "OSVBolDojlgl",
        "outputId": "313b5f06-97ac-4e3f-8c74-28124dd00175"
      },
      "execution_count": 7,
      "outputs": [
        {
          "output_type": "stream",
          "name": "stdout",
          "text": [
            "Here is a:  tensor([1, 2, 3])\n",
            "type of a: <class 'torch.Tensor'>\n",
            "dimention of a  1\n",
            "a.shape: torch.Size([3])\n",
            "<class 'int'>\n",
            "tensor([ 1, 10,  3])\n"
          ]
        }
      ]
    },
    {
      "cell_type": "code",
      "source": [
        "#two-dimentional tensor\n",
        "b = torch.tensor([[1, 2, 3], [4, 5, 6]])\n",
        "print(b)\n",
        "print(b.shape)\n",
        "print(b[0,1], b[1,2])\n",
        "b[1, 1] = 100\n",
        "print(b)"
      ],
      "metadata": {
        "colab": {
          "base_uri": "https://localhost:8080/"
        },
        "id": "9ngvZ2TIpEho",
        "outputId": "08e3f10d-1f09-49ac-9be9-0d745644f38f"
      },
      "execution_count": 15,
      "outputs": [
        {
          "output_type": "stream",
          "name": "stdout",
          "text": [
            "tensor([[1, 2, 3],\n",
            "        [4, 5, 6]])\n",
            "torch.Size([2, 3])\n",
            "tensor(2) tensor(6)\n",
            "tensor([[  1,   2,   3],\n",
            "        [  4, 100,   6]])\n"
          ]
        }
      ]
    },
    {
      "cell_type": "code",
      "source": [
        "c = torch.tensor([[0,0],[0,0],[0,0]])\n",
        "print(c.shape)\n",
        "print(c)\n",
        "\n",
        "c[0, 1] = 10\n",
        "c[1, 0] = 100\n",
        "print(c)"
      ],
      "metadata": {
        "colab": {
          "base_uri": "https://localhost:8080/"
        },
        "id": "eHbeJuvj4bvb",
        "outputId": "d6c64f1c-77e7-451e-8295-d15bc61b7212"
      },
      "execution_count": 26,
      "outputs": [
        {
          "output_type": "stream",
          "name": "stdout",
          "text": [
            "torch.Size([3, 2])\n",
            "tensor([[0, 0],\n",
            "        [0, 0],\n",
            "        [0, 0]])\n",
            "tensor([[  0,  10],\n",
            "        [100,   0],\n",
            "        [  0,   0]])\n"
          ]
        }
      ]
    },
    {
      "cell_type": "code",
      "source": [],
      "metadata": {
        "id": "WuL0G8WeABim"
      },
      "execution_count": 19,
      "outputs": []
    }
  ]
}